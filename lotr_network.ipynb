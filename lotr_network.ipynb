{
 "cells": [
  {
   "cell_type": "markdown",
   "metadata": {},
   "source": [
    "# Getting Started with Network Analysis in Python\n",
    "Created by Eric Sims"
   ]
  },
  {
   "cell_type": "markdown",
   "metadata": {},
   "source": [
    "So, how do we actually make a social network to analyze? We're going to look at three different ways to import files that can be used to create a network.\n",
    "\n",
    "But first, let's talk about components of a network: Nodes and Edges. If you think of a social network like people who know one another, then the people would be the nodes, and the connections between them would be the edges.\n",
    "\n",
    "_[Insert image here]_"
   ]
  },
  {
   "cell_type": "markdown",
   "metadata": {},
   "source": [
    "But how do we make a network in the first place?? It would be impractical to make it ourselves, so we just need to get the data into a useful format.\n",
    "\n",
    "Today we'll talk about 3 different ways to create a network in Python:\n",
    "* Edgelist\n",
    "* Adjacency Matrix\n",
    "* JSON"
   ]
  },
  {
   "cell_type": "markdown",
   "metadata": {},
   "source": [
    "## Creating Networks\n",
    "\n",
    "### Edgelists\n",
    "\n",
    "An edgelist is a list of \"Sources\" and \"Targets\" that represent each connection in the network. Here's a super simple edgelist for some characters in Lord of the Rings:"
   ]
  },
  {
   "cell_type": "code",
   "execution_count": 1,
   "metadata": {},
   "outputs": [],
   "source": [
    "import pandas as pd\n",
    "import networkx as nx\n",
    "from networkx.readwrite import json_graph\n",
    "import json\n",
    "import matplotlib.pyplot as plt"
   ]
  },
  {
   "cell_type": "code",
   "execution_count": 2,
   "metadata": {},
   "outputs": [
    {
     "data": {
      "text/html": [
       "<div>\n",
       "<style scoped>\n",
       "    .dataframe tbody tr th:only-of-type {\n",
       "        vertical-align: middle;\n",
       "    }\n",
       "\n",
       "    .dataframe tbody tr th {\n",
       "        vertical-align: top;\n",
       "    }\n",
       "\n",
       "    .dataframe thead th {\n",
       "        text-align: right;\n",
       "    }\n",
       "</style>\n",
       "<table border=\"1\" class=\"dataframe\">\n",
       "  <thead>\n",
       "    <tr style=\"text-align: right;\">\n",
       "      <th></th>\n",
       "      <th>Source</th>\n",
       "      <th>Target</th>\n",
       "    </tr>\n",
       "  </thead>\n",
       "  <tbody>\n",
       "    <tr>\n",
       "      <th>0</th>\n",
       "      <td>Bilbo</td>\n",
       "      <td>Gandalf</td>\n",
       "    </tr>\n",
       "    <tr>\n",
       "      <th>1</th>\n",
       "      <td>Bilbo</td>\n",
       "      <td>Frodo</td>\n",
       "    </tr>\n",
       "    <tr>\n",
       "      <th>2</th>\n",
       "      <td>Frodo</td>\n",
       "      <td>Gandalf</td>\n",
       "    </tr>\n",
       "    <tr>\n",
       "      <th>3</th>\n",
       "      <td>Frodo</td>\n",
       "      <td>Bilbo</td>\n",
       "    </tr>\n",
       "    <tr>\n",
       "      <th>4</th>\n",
       "      <td>Frodo</td>\n",
       "      <td>Merry</td>\n",
       "    </tr>\n",
       "    <tr>\n",
       "      <th>5</th>\n",
       "      <td>Merry</td>\n",
       "      <td>Frodo</td>\n",
       "    </tr>\n",
       "    <tr>\n",
       "      <th>6</th>\n",
       "      <td>Merry</td>\n",
       "      <td>Gandalf</td>\n",
       "    </tr>\n",
       "    <tr>\n",
       "      <th>7</th>\n",
       "      <td>Merry</td>\n",
       "      <td>Treebeard</td>\n",
       "    </tr>\n",
       "    <tr>\n",
       "      <th>8</th>\n",
       "      <td>Treebeard</td>\n",
       "      <td>Merry</td>\n",
       "    </tr>\n",
       "    <tr>\n",
       "      <th>9</th>\n",
       "      <td>Gandalf</td>\n",
       "      <td>Frodo</td>\n",
       "    </tr>\n",
       "    <tr>\n",
       "      <th>10</th>\n",
       "      <td>Gandalf</td>\n",
       "      <td>Bilbo</td>\n",
       "    </tr>\n",
       "    <tr>\n",
       "      <th>11</th>\n",
       "      <td>Gandalf</td>\n",
       "      <td>Merry</td>\n",
       "    </tr>\n",
       "  </tbody>\n",
       "</table>\n",
       "</div>"
      ],
      "text/plain": [
       "       Source     Target\n",
       "0       Bilbo    Gandalf\n",
       "1       Bilbo      Frodo\n",
       "2       Frodo    Gandalf\n",
       "3       Frodo      Bilbo\n",
       "4       Frodo      Merry\n",
       "5       Merry      Frodo\n",
       "6       Merry    Gandalf\n",
       "7       Merry  Treebeard\n",
       "8   Treebeard      Merry\n",
       "9     Gandalf      Frodo\n",
       "10    Gandalf      Bilbo\n",
       "11    Gandalf      Merry"
      ]
     },
     "execution_count": 2,
     "metadata": {},
     "output_type": "execute_result"
    }
   ],
   "source": [
    "df_edgelist = pd.read_csv('lotr_network_edgelist.csv')\n",
    "df_edgelist"
   ]
  },
  {
   "cell_type": "markdown",
   "metadata": {},
   "source": [
    "Now we can draw this as a network. First, we create the graph object. In NetworkX, graphs are usually called G, so you'll see that a lot in the docs and in StackOverflow. I like more descriptive graph names, but we'll stick with G here to keep things consistent.\n",
    "\n",
    "We'll create the graph using the \"from_pandas_edgelist\" function and tell it the source and target columns, which I already named so they'd be easy to find. You could name them anything, though, like \"employee\" and \"co-worker\" or \"super hero\" and \"arch-nemesis\". They can be used to describe whatever relationships you would like to analyze."
   ]
  },
  {
   "cell_type": "code",
   "execution_count": 3,
   "metadata": {},
   "outputs": [],
   "source": [
    "G = nx.from_pandas_edgelist(df_edgelist,source=\"Source\", target=\"Target\")"
   ]
  },
  {
   "cell_type": "markdown",
   "metadata": {},
   "source": [
    "Next, we'll use the `nx.draw()` function to take a first look at our network. We pass the graph we would like to draw, a position argument `pos` to specify the layout, and whether we'd like to see labels on the nodes..\n",
    "\n",
    "_Note: There are a lot of different `pos` options you can explore. We're just going to use the circular layout for this one._"
   ]
  },
  {
   "cell_type": "code",
   "execution_count": 4,
   "metadata": {},
   "outputs": [
    {
     "data": {
      "image/png": "[encoded data removed]",
      "text/plain": [
       "<Figure size 576x432 with 1 Axes>"
      ]
     },
     "metadata": {},
     "output_type": "display_data"
    }
   ],
   "source": [
    "fig = plt.subplots(figsize=(8,6))\n",
    "plt.margins(.2,.2)\n",
    "nx.draw(G, pos=nx.circular_layout(G), with_labels=True, node_color='lightblue', node_size=3500)"
   ]
  },
  {
   "cell_type": "code",
   "execution_count": 5,
   "metadata": {
    "collapsed": true,
    "jupyter": {
     "outputs_hidden": true,
     "source_hidden": true
    },
    "tags": []
   },
   "outputs": [
    {
     "data": {
      "text/html": [
       "\n",
       "        <iframe\n",
       "            width=\"600px\"\n",
       "            height=\"600px\"\n",
       "            src=\"out1.html\"\n",
       "            frameborder=\"0\"\n",
       "            allowfullscreen\n",
       "        ></iframe>\n",
       "        "
      ],
      "text/plain": [
       "<IPython.lib.display.IFrame at 0x190190be2b0>"
      ]
     },
     "execution_count": 5,
     "metadata": {},
     "output_type": "execute_result"
    }
   ],
   "source": [
    "from pyvis.network import Network\n",
    "\n",
    "# create pyvis Network object\n",
    "net = Network(height = \"600px\", width = \"600px\", notebook = True)\n",
    "\n",
    "G = nx.from_pandas_edgelist(df_edgelist,source=\"Source\", target=\"Target\")\n",
    "\n",
    "net.from_nx(G)\n",
    "net.show_buttons()\n",
    "net.show('out1.html')\n"
   ]
  },
  {
   "cell_type": "markdown",
   "metadata": {},
   "source": [
    "### Adjacency Matrix\n",
    "\n",
    "Another way to make a graph is with a pandas adjacency matrix. An adjacency matrix has the node names across the top and left side and has a number at the intersection of nodes that interact in some way. Here's the adjacency matrix for our LotR network:"
   ]
  },
  {
   "cell_type": "code",
   "execution_count": 6,
   "metadata": {},
   "outputs": [
    {
     "data": {
      "text/html": [
       "<div>\n",
       "<style scoped>\n",
       "    .dataframe tbody tr th:only-of-type {\n",
       "        vertical-align: middle;\n",
       "    }\n",
       "\n",
       "    .dataframe tbody tr th {\n",
       "        vertical-align: top;\n",
       "    }\n",
       "\n",
       "    .dataframe thead th {\n",
       "        text-align: right;\n",
       "    }\n",
       "</style>\n",
       "<table border=\"1\" class=\"dataframe\">\n",
       "  <thead>\n",
       "    <tr style=\"text-align: right;\">\n",
       "      <th></th>\n",
       "      <th>Bilbo</th>\n",
       "      <th>Frodo</th>\n",
       "      <th>Gandalf</th>\n",
       "      <th>Merry</th>\n",
       "      <th>Treebeard</th>\n",
       "    </tr>\n",
       "    <tr>\n",
       "      <th>Nodes</th>\n",
       "      <th></th>\n",
       "      <th></th>\n",
       "      <th></th>\n",
       "      <th></th>\n",
       "      <th></th>\n",
       "    </tr>\n",
       "  </thead>\n",
       "  <tbody>\n",
       "    <tr>\n",
       "      <th>Bilbo</th>\n",
       "      <td>0</td>\n",
       "      <td>1</td>\n",
       "      <td>1</td>\n",
       "      <td>0</td>\n",
       "      <td>0</td>\n",
       "    </tr>\n",
       "    <tr>\n",
       "      <th>Frodo</th>\n",
       "      <td>1</td>\n",
       "      <td>0</td>\n",
       "      <td>1</td>\n",
       "      <td>1</td>\n",
       "      <td>0</td>\n",
       "    </tr>\n",
       "    <tr>\n",
       "      <th>Gandalf</th>\n",
       "      <td>1</td>\n",
       "      <td>1</td>\n",
       "      <td>0</td>\n",
       "      <td>1</td>\n",
       "      <td>0</td>\n",
       "    </tr>\n",
       "    <tr>\n",
       "      <th>Merry</th>\n",
       "      <td>0</td>\n",
       "      <td>1</td>\n",
       "      <td>1</td>\n",
       "      <td>0</td>\n",
       "      <td>1</td>\n",
       "    </tr>\n",
       "    <tr>\n",
       "      <th>Treebeard</th>\n",
       "      <td>0</td>\n",
       "      <td>0</td>\n",
       "      <td>0</td>\n",
       "      <td>1</td>\n",
       "      <td>0</td>\n",
       "    </tr>\n",
       "  </tbody>\n",
       "</table>\n",
       "</div>"
      ],
      "text/plain": [
       "           Bilbo  Frodo  Gandalf  Merry  Treebeard\n",
       "Nodes                                             \n",
       "Bilbo          0      1        1      0          0\n",
       "Frodo          1      0        1      1          0\n",
       "Gandalf        1      1        0      1          0\n",
       "Merry          0      1        1      0          1\n",
       "Treebeard      0      0        0      1          0"
      ]
     },
     "execution_count": 6,
     "metadata": {},
     "output_type": "execute_result"
    }
   ],
   "source": [
    "# Read in data\n",
    "df_adj_matrix = pd.read_csv('lotr_network_adjacency_matrix.csv')\n",
    "\n",
    "# Rename first column\n",
    "df_adj_matrix.rename(columns={'Unnamed: 0':'Nodes'}, inplace=True)\n",
    "\n",
    "# Set nodes as index\n",
    "df_adj_matrix.set_index('Nodes', inplace=True)\n",
    "\n",
    "# Let's have a look...\n",
    "df_adj_matrix"
   ]
  },
  {
   "cell_type": "markdown",
   "metadata": {},
   "source": [
    "A couple of things to notice here:\n",
    "* The 1's correspond to characters that interacted in the movies\n",
    "* The diagonal of the matrix is all zeros because we already know that the characters are in the same scenes as themselves. In this particular network, this doesn't add any value.\n",
    "* Lastly, this matrix is symmetrical along the diagonal. That's because all the edges are \"undirected\", which means it doesn't matter if Frodo talked to Gandalf or the other way around. We'll see more of that in a moment.\n",
    "\n",
    "If we draw the adjacency matrix, we'll see it looks pretty much the same as the graph from the pandas edgelist. That's good! It just means you can get the same result when data comes in different formats."
   ]
  },
  {
   "cell_type": "code",
   "execution_count": 13,
   "metadata": {},
   "outputs": [],
   "source": [
    "G = nx.from_pandas_adjacency(df_adj_matrix)"
   ]
  },
  {
   "cell_type": "code",
   "execution_count": 14,
   "metadata": {},
   "outputs": [
    {
     "data": {
      "image/png": "[encoded data removed]",
      "text/plain": [
       "<Figure size 576x432 with 1 Axes>"
      ]
     },
     "metadata": {},
     "output_type": "display_data"
    }
   ],
   "source": [
    "fig = plt.subplots(figsize=(8,6))\n",
    "plt.margins(.2,.2)\n",
    "nx.draw(G, pos=nx.circular_layout(G), with_labels=True, node_color='lightblue', node_size=3500)"
   ]
  },
  {
   "cell_type": "markdown",
   "metadata": {},
   "source": [
    "### JSON\n",
    "\n",
    "The last way I'll show you how to make a network is from JSON. JSON is a non-tabular format, so it looks a lot different from others we've seen so far. A JSON graph has tow sections: Nodes and Links. The first, which you can see below, is the list of nodes, and the second is a list of each of the edges. We can use the JSON library in Python and NetworkX to create a graph from a JSON file, and then we'll draw the graph like we have previously.\n",
    "\n",
    "This first function opens the file with the JSON library in Python and then returns a graph."
   ]
  },
  {
   "cell_type": "code",
   "execution_count": 15,
   "metadata": {},
   "outputs": [],
   "source": [
    "# JSON file to graph\n",
    "def read_json_file(filename):\n",
    "    with open(filename) as f:\n",
    "        js_graph = json.load(f)\n",
    "    return json_graph.node_link_graph(js_graph)"
   ]
  },
  {
   "cell_type": "code",
   "execution_count": 16,
   "metadata": {},
   "outputs": [
    {
     "data": {
      "image/png": "[encoded data removed]",
      "text/plain": [
       "<Figure size 576x432 with 1 Axes>"
      ]
     },
     "metadata": {},
     "output_type": "display_data"
    }
   ],
   "source": [
    "fig = plt.subplots(figsize=(8,6))\n",
    "plt.margins(.2,.2)\n",
    "G = read_json_file('lotr_network_json.json')\n",
    "nx.draw(G, pos=nx.circular_layout(G), with_labels=True, node_color='lightblue', node_size=3500)"
   ]
  },
  {
   "cell_type": "markdown",
   "metadata": {},
   "source": [
    "So that's how you get started making a graph! One of the challenges is getting the data into the right format so your sources and targets are all lined up. Twitter and Reddit are great places to get network data for projects and wrangling practice."
   ]
  },
  {
   "cell_type": "markdown",
   "metadata": {},
   "source": [
    "## What you can learn from a network\n",
    "\n",
    "One thing I love about networks is how we can see and track motion. We can see direction in a network using a \"directed\" graph.\n",
    "\n",
    "Previously, we only saw undirected graphs, which is when you just have a line connecting two nodes. But what if you wanted to show the flow of something, like money? What if Bilbo gave Frodo some money, but Frodo didn't give any back? Then we could represent it with an arrow! When we show the directed flow of material, information, or any other transitive relationship, we call it a directed graph.\n",
    "\n",
    "Here's an updated edgelist showing who gave money to whom in our Lord of the Rings group.\n",
    "\n",
    "[show updated edgelist]"
   ]
  },
  {
   "cell_type": "markdown",
   "metadata": {},
   "source": [
    "And here it is in an adjacency matrix. You can seeta our matrix isn't symmetrical anymore, and that's because one intersection of two nodes represents one direction of the relationship, and the other intersection represents the other direction.\n",
    "\n",
    "[show adjacency matrix]"
   ]
  },
  {
   "cell_type": "markdown",
   "metadata": {},
   "source": [
    "When we create this as a directed graph, we add a small piece to our NetworkX function:"
   ]
  },
  {
   "cell_type": "code",
   "execution_count": 32,
   "metadata": {},
   "outputs": [
    {
     "data": {
      "image/png": "[encoded data removed]",
      "text/plain": [
       "<Figure size 576x432 with 1 Axes>"
      ]
     },
     "metadata": {},
     "output_type": "display_data"
    }
   ],
   "source": [
    "fig = plt.subplots(figsize=(8,6))\n",
    "plt.margins(.2,.2)\n",
    "G = nx.from_pandas_edgelist(df_edgelist,source=\"Source\", target=\"Target\",create_using=nx.DiGraph())\n",
    "# nx.draw(G, pos=nx.circular_layout(G), with_labels=True, node_color='lightblue', node_size=3500)\n",
    "nx.draw(G, pos=nx.circular_layout(G), with_labels=True, node_color='lightblue', node_size=3500, arrowsize=20)"
   ]
  },
  {
   "cell_type": "code",
   "execution_count": null,
   "metadata": {},
   "outputs": [],
   "source": []
  }
 ],
 "metadata": {
  "interpreter": {
   "hash": "6524d49d688450fc3d47611e48c8230f50bdaae02d55d1a5f70db79bfcaf4363"
  },
  "kernelspec": {
   "display_name": "Python 3",
   "language": "python",
   "name": "python3"
  },
  "language_info": {
   "codemirror_mode": {
    "name": "ipython",
    "version": 3
   },
   "file_extension": ".py",
   "mimetype": "text/x-python",
   "name": "python",
   "nbconvert_exporter": "python",
   "pygments_lexer": "ipython3",
   "version": "3.8.8"
  }
 },
 "nbformat": 4,
 "nbformat_minor": 4
}
